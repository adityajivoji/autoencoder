{
  "nbformat": 4,
  "nbformat_minor": 0,
  "metadata": {
    "colab": {
      "name": "denoising_autoencoder.ipynb",
      "provenance": [],
      "private_outputs": true,
      "collapsed_sections": [],
      "authorship_tag": "ABX9TyOZeiulY1mjqoICYmN7Sljh"
    },
    "kernelspec": {
      "name": "python3",
      "display_name": "Python 3"
    },
    "language_info": {
      "name": "python"
    },
    "accelerator": "GPU"
  },
  "cells": [
    {
      "cell_type": "code",
      "execution_count": null,
      "metadata": {
        "id": "1vydBGYLw1I8"
      },
      "outputs": [],
      "source": [
        "# Importing Libraries\n",
        "import torch\n",
        "import numpy as np\n",
        "import torchvision\n",
        "from torch.utils.data import DataLoader\n",
        "from torch import nn as nn\n",
        "import torchvision.datasets as datasets\n",
        "import torchvision.transforms as transforms\n",
        "from torch import optim\n",
        "from torch.nn import functional as F\n",
        "from matplotlib import pyplot as plt"
      ]
    },
    {
      "cell_type": "code",
      "source": [
        "device = torch.device(\"cuda\" if torch.cuda.is_available() else \"cpu\") # checking device type"
      ],
      "metadata": {
        "id": "2_WQsnXxxqFk"
      },
      "execution_count": null,
      "outputs": []
    },
    {
      "cell_type": "code",
      "source": [
        "class dae(nn.Module):\n",
        "    def __init__(self):\n",
        "        super(dae, self).__init__()\n",
        "        self.encode_sequence = nn.Sequential(nn.Linear(784, 500), nn.ReLU(), nn.Linear(500, 300), nn.ReLU(), nn.Linear(300, 80), nn.ReLU(), nn.Linear(80, 10))\n",
        "        self.decode_sequence = nn.Sequential(nn.Linear(10, 80), nn.ReLU(), nn.Linear(80, 300), nn.ReLU(), nn.Linear(300, 500), nn.ReLU(), nn.Linear(500, 784) ,nn.Sigmoid())\n",
        "\n",
        "    def forward(self, X):\n",
        "        encoded_data = self.encode_sequence(X)\n",
        "        decoded_data = self.decode_sequence(encoded_data)\n",
        "        return decoded_data"
      ],
      "metadata": {
        "id": "_69J8Ql8x2g1"
      },
      "execution_count": null,
      "outputs": []
    },
    {
      "cell_type": "code",
      "source": [
        "model = dae().to(device)\n",
        "learning_rate = 0.001\n",
        "num_epoch = 2\n",
        "batch_size = 64\n",
        "criterion = nn.MSELoss()\n",
        "optimizer = optim.Adam(model.parameters(), lr=learning_rate)"
      ],
      "metadata": {
        "id": "J9gb9V2pa7kV"
      },
      "execution_count": null,
      "outputs": []
    },
    {
      "cell_type": "code",
      "source": [
        "train_dataset = datasets.MNIST(root = '.', train= True, transform = transforms.ToTensor(), download = True)\n",
        "train_loader = DataLoader(dataset = train_dataset, batch_size = batch_size, shuffle = True)\n",
        "test_dataset = datasets.MNIST(root = '.', train= False, transform = transforms.ToTensor(), download = True)\n",
        "test_loader = DataLoader(dataset = test_dataset, batch_size = batch_size, shuffle = True)"
      ],
      "metadata": {
        "id": "VU9HyMc_qjHk"
      },
      "execution_count": null,
      "outputs": []
    },
    {
      "cell_type": "code",
      "source": [
        "def add_noise(input):\n",
        "    noise = torch.rand(input.shape) / 3\n",
        "    input  = input + noise.to(device=device)\n",
        "    return input"
      ],
      "metadata": {
        "id": "NUnYvfjBqdCd"
      },
      "execution_count": null,
      "outputs": []
    },
    {
      "cell_type": "code",
      "source": [
        "train_dataset_array = next(iter(train_loader))[0].numpy()"
      ],
      "metadata": {
        "id": "Lg4SZBsbVB7Q"
      },
      "execution_count": null,
      "outputs": []
    },
    {
      "cell_type": "code",
      "source": [
        "losses = []\n",
        "record = []\n",
        "for epoch in range(num_epoch): # number of iterations\n",
        "    for i, (data, targets) in enumerate(train_loader , 0): # one min-batch goes through each iteration of size 64\n",
        "        # Converting to acceptable format\n",
        "        data = data.to(device=device)\n",
        "        \n",
        "        data = data.reshape(-1, 28*28)\n",
        "        temp = add_noise(data)\n",
        "        # targets = targets.to(device=device)\n",
        "        output = model(temp)\n",
        "        loss = criterion(output, temp)\n",
        "        optimizer.zero_grad()\n",
        "        \n",
        "        loss.backward()\n",
        "        optimizer.step()\n",
        "        # if i%100 == 0:\n",
        "        #     print(loss)\n",
        "        losses.append(loss)\n",
        "        record.append([i, data, output])\n"
      ],
      "metadata": {
        "id": "cQxpD2knoK0_"
      },
      "execution_count": null,
      "outputs": []
    },
    {
      "cell_type": "code",
      "source": [
        "data = data.reshape(-1, 28,28)"
      ],
      "metadata": {
        "id": "g95X63kwhFRP"
      },
      "execution_count": null,
      "outputs": []
    },
    {
      "cell_type": "code",
      "source": [
        "output = output.reshape(-1, 28, 28)"
      ],
      "metadata": {
        "id": "8MkobrkCplFX"
      },
      "execution_count": null,
      "outputs": []
    },
    {
      "cell_type": "code",
      "source": [
        "temp = temp.reshape(-1, 28 ,28)"
      ],
      "metadata": {
        "id": "tnHVtPAStHlS"
      },
      "execution_count": null,
      "outputs": []
    },
    {
      "cell_type": "code",
      "source": [
        "print(data.shape, output.shape)\n"
      ],
      "metadata": {
        "id": "YHPCWH-IcQx5"
      },
      "execution_count": null,
      "outputs": []
    },
    {
      "cell_type": "code",
      "source": [
        "plt.figure(figsize = (15 ,120 ))\n",
        "for i in range(16):\n",
        "\n",
        "    plt.subplot(32,3,3 * i + 1)\n",
        "    plt.imshow(data[i].cpu().detach().numpy())\n",
        "    plt.gray()\n",
        "    plt.title(\"original \"+str(i + 1))\n",
        "    plt.subplot(32,3,3 * i + 2)\n",
        "    plt.imshow(temp[i].cpu().detach().numpy())\n",
        "    plt.gray()\n",
        "    plt.title(\"noised \" + str(i + 1))\n",
        "    plt.subplot(32,3,3 * i + 3)\n",
        "    plt.imshow(output[i].cpu().detach().numpy())\n",
        "    plt.gray()\n",
        "    plt.title(\"reconstrcuted \" + str(i + 1))\n"
      ],
      "metadata": {
        "id": "xNYZ_hTOYKJY"
      },
      "execution_count": null,
      "outputs": []
    },
    {
      "cell_type": "code",
      "source": [
        "plt.xlabel('Iterations')\n",
        "plt.ylabel('Loss')\n",
        "  \n",
        "# Plotting the last 100 values\n",
        "plt.plot(losses[-100:])"
      ],
      "metadata": {
        "id": "TGUK807FRfzT"
      },
      "execution_count": null,
      "outputs": []
    }
  ]
}